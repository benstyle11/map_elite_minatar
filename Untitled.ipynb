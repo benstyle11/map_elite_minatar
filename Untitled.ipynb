{
 "cells": [
  {
   "cell_type": "code",
   "execution_count": 7,
   "id": "61e11197",
   "metadata": {},
   "outputs": [],
   "source": [
    "from archive import *\n",
    "from Agent import *\n",
    "from mapEliteStrategy import *"
   ]
  },
  {
   "cell_type": "code",
   "execution_count": 8,
   "id": "6dc2ad52",
   "metadata": {},
   "outputs": [],
   "source": [
    "NB_IND = 20\n",
    "MAX_EVALS = 5000\n",
    "CROSS = True"
   ]
  },
  {
   "cell_type": "code",
   "execution_count": 9,
   "id": "a3a9d652",
   "metadata": {},
   "outputs": [
    {
     "name": "stdout",
     "output_type": "stream",
     "text": [
      "[1.0, 0.0, 2.0, 2.0]\n",
      "4\n"
     ]
    }
   ],
   "source": [
    "archive = map_elite_strategy(MAX_EVALS = MAX_EVALS, cross = CROSS) "
   ]
  },
  {
   "cell_type": "code",
   "execution_count": 10,
   "id": "a3326c41",
   "metadata": {},
   "outputs": [],
   "source": [
    "display_best(archive)"
   ]
  },
  {
   "cell_type": "code",
   "execution_count": 6,
   "id": "17b5e792",
   "metadata": {},
   "outputs": [
    {
     "name": "stdout",
     "output_type": "stream",
     "text": [
      "[array([ 0.57198267,  0.49093522,  1.36770824, ..., -0.05462041,\n",
      "        0.85590272, -0.29787605]), array([ 0.63513803,  0.19021966,  0.58879615, ..., -0.05462041,\n",
      "        0.85590272, -0.29787605]), array([-0.28550437, -0.46794015,  1.22097872, ..., -0.05462041,\n",
      "        0.85590272, -0.29787605])]\n"
     ]
    }
   ],
   "source": [
    "l = list(archive.values())\n",
    "fitness = [ind.genotype for ind in l]\n",
    "print(fitness)"
   ]
  }
 ],
 "metadata": {
  "kernelspec": {
   "display_name": "Python 3",
   "language": "python",
   "name": "python3"
  },
  "language_info": {
   "codemirror_mode": {
    "name": "ipython",
    "version": 3
   },
   "file_extension": ".py",
   "mimetype": "text/x-python",
   "name": "python",
   "nbconvert_exporter": "python",
   "pygments_lexer": "ipython3",
   "version": "3.6.9"
  }
 },
 "nbformat": 4,
 "nbformat_minor": 5
}
