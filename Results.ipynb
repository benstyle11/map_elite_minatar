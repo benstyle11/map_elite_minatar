{
 "cells": [
  {
   "cell_type": "code",
   "execution_count": 1,
   "id": "ef478b01",
   "metadata": {},
   "outputs": [],
   "source": [
    "from archive import *\n",
    "from Agent import *\n",
    "from mapEliteStrategy import *"
   ]
  },
  {
   "cell_type": "code",
   "execution_count": 2,
   "id": "a5687dcc",
   "metadata": {},
   "outputs": [],
   "source": [
    "NB_IND = 20\n",
    "MAX_EVALS = 20000\n",
    "CROSS = True"
   ]
  },
  {
   "cell_type": "code",
   "execution_count": 3,
   "id": "a059b5d4",
   "metadata": {},
   "outputs": [
    {
     "name": "stdout",
     "output_type": "stream",
     "text": [
      "[4.0, 0.0, 2.0, 1.0, 2.0, 3.0, 3.0, 2.0, 4.0, 4.0, 3.0, 6.0, 5.0, 6.0, 4.0, 5.0]\n",
      "16\n"
     ]
    }
   ],
   "source": [
    "archive = map_elite_strategy(MAX_EVALS = MAX_EVALS, cross = CROSS) "
   ]
  },
  {
   "cell_type": "code",
   "execution_count": 6,
   "id": "27ec1528",
   "metadata": {},
   "outputs": [],
   "source": [
    "display_best(archive)"
   ]
  },
  {
   "cell_type": "code",
   "execution_count": 5,
   "id": "e45da248",
   "metadata": {},
   "outputs": [
    {
     "name": "stdout",
     "output_type": "stream",
     "text": [
      "42.0\n",
      "15.0\n",
      "35.0\n",
      "19.0\n",
      "53.0\n",
      "57.0\n",
      "44.0\n",
      "24.0\n",
      "41.0\n",
      "31.0\n",
      "34.0\n",
      "45.0\n",
      "55.0\n",
      "48.0\n",
      "46.0\n",
      "47.0\n"
     ]
    }
   ],
   "source": [
    "l = list(archive.values())\n",
    "fitness = [ind.pos for ind in l]\n",
    "for f in fitness:\n",
    "    print(f)"
   ]
  }
 ],
 "metadata": {
  "kernelspec": {
   "display_name": "Python 3",
   "language": "python",
   "name": "python3"
  },
  "language_info": {
   "codemirror_mode": {
    "name": "ipython",
    "version": 3
   },
   "file_extension": ".py",
   "mimetype": "text/x-python",
   "name": "python",
   "nbconvert_exporter": "python",
   "pygments_lexer": "ipython3",
   "version": "3.6.9"
  }
 },
 "nbformat": 4,
 "nbformat_minor": 5
}
