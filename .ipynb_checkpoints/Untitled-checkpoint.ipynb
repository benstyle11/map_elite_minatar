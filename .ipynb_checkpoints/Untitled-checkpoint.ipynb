{
 "cells": [
  {
   "cell_type": "code",
   "execution_count": 1,
   "id": "abb029f7",
   "metadata": {},
   "outputs": [],
   "source": [
    "from archive import *\n",
    "from Agent import *\n",
    "from mapEliteStrategy import *"
   ]
  },
  {
   "cell_type": "code",
   "execution_count": 2,
   "id": "4518b45a",
   "metadata": {},
   "outputs": [],
   "source": [
    "NB_IND = 20\n",
    "MAX_EVALS = 5000\n",
    "CROSS = True"
   ]
  },
  {
   "cell_type": "code",
   "execution_count": 3,
   "id": "e7517fa7",
   "metadata": {},
   "outputs": [
    {
     "name": "stdout",
     "output_type": "stream",
     "text": [
      "[1.0, 0.0, 2.0, 2.0]\n",
      "4\n"
     ]
    }
   ],
   "source": [
    "archive = map_elite_strategy(MAX_EVALS = MAX_EVALS, cross = CROSS) "
   ]
  },
  {
   "cell_type": "code",
   "execution_count": 5,
   "id": "26b34cf2",
   "metadata": {},
   "outputs": [],
   "source": [
    "display_best(archive)"
   ]
  },
  {
   "cell_type": "code",
   "execution_count": 11,
   "id": "4346855d",
   "metadata": {},
   "outputs": [
    {
     "name": "stdout",
     "output_type": "stream",
     "text": [
      "[1.0, 0.0, 2.0, 2.0]\n"
     ]
    }
   ],
   "source": [
    "l = list(archive.values())\n",
    "fitness = [ind.fitness for ind in l]\n",
    "print(fitness)"
   ]
  }
 ],
 "metadata": {
  "kernelspec": {
   "display_name": "Python 3",
   "language": "python",
   "name": "python3"
  },
  "language_info": {
   "codemirror_mode": {
    "name": "ipython",
    "version": 3
   },
   "file_extension": ".py",
   "mimetype": "text/x-python",
   "name": "python",
   "nbconvert_exporter": "python",
   "pygments_lexer": "ipython3",
   "version": "3.6.9"
  }
 },
 "nbformat": 4,
 "nbformat_minor": 5
}
